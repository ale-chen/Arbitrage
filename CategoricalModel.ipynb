{
  "nbformat": 4,
  "nbformat_minor": 0,
  "metadata": {
    "colab": {
      "provenance": [],
      "mount_file_id": "1i6SuKcW6nnEKIlp_Si2QqleTY1alNqrf",
      "authorship_tag": "ABX9TyO59osqqiqmkwJX4uyayA9e",
      "include_colab_link": true
    },
    "kernelspec": {
      "name": "python3",
      "display_name": "Python 3"
    },
    "language_info": {
      "name": "python"
    }
  },
  "cells": [
    {
      "cell_type": "markdown",
      "metadata": {
        "id": "view-in-github",
        "colab_type": "text"
      },
      "source": [
        "<a href=\"https://colab.research.google.com/github/ale-chen/Arbitrage/blob/main/CategoricalModel.ipynb\" target=\"_parent\"><img src=\"https://colab.research.google.com/assets/colab-badge.svg\" alt=\"Open In Colab\"/></a>"
      ]
    },
    {
      "cell_type": "code",
      "execution_count": null,
      "metadata": {
        "colab": {
          "base_uri": "https://localhost:8080/"
        },
        "id": "H2teQYPp1pqx",
        "outputId": "45900b2a-91d3-4c5e-f619-6603e97cb2a3"
      },
      "outputs": [
        {
          "output_type": "stream",
          "name": "stdout",
          "text": [
            "TensorFlow version: 2.11.0\n"
          ]
        }
      ],
      "source": [
        "import warnings\n",
        "warnings.filterwarnings(\"ignore\")\n",
        "\n",
        "import os\n",
        "import tensorflow as tf\n",
        "import matplotlib.pyplot as plt\n",
        "\n",
        "print(\"TensorFlow version: {}\".format(tf.__version__))"
      ]
    },
    {
      "cell_type": "code",
      "source": [
        "import pandas as pd\n",
        "\n",
        "X = pd.read_csv('drive/MyDrive/prem_data/train_data/X.csv', header = None)\n",
        "y = pd.read_csv('drive/MyDrive/prem_data/train_data/y.csv', header = None)"
      ],
      "metadata": {
        "id": "0tT5slFG2hAA"
      },
      "execution_count": null,
      "outputs": []
    },
    {
      "cell_type": "code",
      "source": [
        "col_names = ['Date', 'HomeTeam', 'AwayTeam', 'FTHG', 'FTAG', 'FTR', 'HTHG', 'HTAG',\n",
        "       'HTR', 'HS', 'AS', 'HST', 'AST', 'HF', 'AF', 'HC', 'AC', 'HY', 'AY',\n",
        "       'HR', 'AR', 'MAXH', 'MAXD', 'MAXA']\n",
        "print(col_names)\n",
        "extended_col_names = col_names.copy()\n",
        "for i in range(5):\n",
        "  extended_col_names.extend([name + \"_H_\" + str(i) for name in col_names])\n",
        "for i in range(5):\n",
        "  extended_col_names.extend([name + \"_A_\" + str(i) for name in col_names])\n",
        "\n",
        "extended_col_names = [ele for ele in extended_col_names if ele not in ['MAXH','MAXD','MAXA']]"
      ],
      "metadata": {
        "colab": {
          "base_uri": "https://localhost:8080/"
        },
        "id": "_44BqtlK3QkM",
        "outputId": "cf1b3839-5130-43f1-b365-3c41386d7096"
      },
      "execution_count": null,
      "outputs": [
        {
          "output_type": "stream",
          "name": "stdout",
          "text": [
            "['Date', 'HomeTeam', 'AwayTeam', 'FTHG', 'FTAG', 'FTR', 'HTHG', 'HTAG', 'HTR', 'HS', 'AS', 'HST', 'AST', 'HF', 'AF', 'HC', 'AC', 'HY', 'AY', 'HR', 'AR', 'MAXH', 'MAXD', 'MAXA']\n"
          ]
        }
      ]
    },
    {
      "cell_type": "code",
      "source": [
        "X.columns = extended_col_names\n",
        "\n",
        "#WE DON'T WANT TO TRAIN ON GAME STATS, ONLY PREVIOUS\n",
        "\n",
        "#X.drop(['FTHG', 'FTAG', 'FTR', 'HTHG', 'HTAG','HTR', 'HS', 'AS', 'HST', 'AST', 'HF', 'AF', 'HC', 'AC', 'HY', 'AY','HR', 'AR'], axis = 1)\n",
        "\n",
        "\n",
        "X = X.drop(X.iloc[:, 21:261],axis = 1)\n",
        "\n",
        "X"
      ],
      "metadata": {
        "colab": {
          "base_uri": "https://localhost:8080/",
          "height": 424
        },
        "id": "E0GvszOE3RUt",
        "outputId": "4a7715f1-99be-48d0-aa0a-0e53bc6efb99"
      },
      "execution_count": null,
      "outputs": [
        {
          "output_type": "execute_result",
          "data": {
            "text/plain": [
              "        Date  HomeTeam  AwayTeam  FTHG  FTAG  FTR  HTHG  HTAG  HTR    HS  ...  \\\n",
              "0     733305         5         4   2.0   0.0   -1   0.0   0.0    0  17.0  ...   \n",
              "1     733305         6        11   3.0   1.0   -1   2.0   0.0   -1  12.0  ...   \n",
              "2     733305         1         0   1.0   3.0    1   1.0   2.0    1  12.0  ...   \n",
              "3     733305        10        12   0.0   0.0    0   0.0   0.0    0  27.0  ...   \n",
              "4     733306         3         2   2.0   2.0    0   1.0   0.0   -1   9.0  ...   \n",
              "...      ...       ...       ...   ...   ...  ...   ...   ...  ...   ...  ...   \n",
              "5404  738555         9        29   2.0   1.0   -1   1.0   0.0   -1  14.0  ...   \n",
              "5405  738555        20        10   3.0   0.0   -1   2.0   0.0   -1  12.0  ...   \n",
              "5406  738556        13        17   1.0   0.0   -1   1.0   0.0   -1  12.0  ...   \n",
              "5407  738556        39        37   1.0   0.0   -1   1.0   0.0   -1   6.0  ...   \n",
              "5408  738559         9        37   2.0   2.0    0   0.0   1.0    1  24.0  ...   \n",
              "\n",
              "       HST   AST    HF    AF    HC    AC   HY   AY   HR   AR  \n",
              "0     11.0  11.0   9.0  16.0   8.0   7.0  2.0  3.0  0.0  0.0  \n",
              "1      6.0   8.0   8.0  21.0   2.0   6.0  1.0  2.0  0.0  0.0  \n",
              "2      8.0   9.0  12.0  10.0   7.0  17.0  2.0  2.0  0.0  0.0  \n",
              "3     11.0   2.0   8.0  10.0  20.0   3.0  1.0  1.0  0.0  0.0  \n",
              "4      5.0   8.0  11.0  12.0   4.0   6.0  0.0  1.0  0.0  0.0  \n",
              "...    ...   ...   ...   ...   ...   ...  ...  ...  ...  ...  \n",
              "5404   5.0   3.0   9.0   9.0   5.0   5.0  1.0  2.0  1.0  0.0  \n",
              "5405   6.0   4.0   9.0   7.0   2.0   7.0  1.0  1.0  0.0  0.0  \n",
              "5406   3.0   5.0  19.0  14.0   4.0   6.0  2.0  3.0  1.0  0.0  \n",
              "5407   2.0   4.0  15.0  14.0   0.0   2.0  4.0  2.0  0.0  0.0  \n",
              "5408   7.0   2.0   7.0  11.0   6.0   5.0  1.0  3.0  0.0  0.0  \n",
              "\n",
              "[5409 rows x 21 columns]"
            ],
            "text/html": [
              "\n",
              "  <div id=\"df-0f436057-1bb5-435f-a51f-4492c59e2def\">\n",
              "    <div class=\"colab-df-container\">\n",
              "      <div>\n",
              "<style scoped>\n",
              "    .dataframe tbody tr th:only-of-type {\n",
              "        vertical-align: middle;\n",
              "    }\n",
              "\n",
              "    .dataframe tbody tr th {\n",
              "        vertical-align: top;\n",
              "    }\n",
              "\n",
              "    .dataframe thead th {\n",
              "        text-align: right;\n",
              "    }\n",
              "</style>\n",
              "<table border=\"1\" class=\"dataframe\">\n",
              "  <thead>\n",
              "    <tr style=\"text-align: right;\">\n",
              "      <th></th>\n",
              "      <th>Date</th>\n",
              "      <th>HomeTeam</th>\n",
              "      <th>AwayTeam</th>\n",
              "      <th>FTHG</th>\n",
              "      <th>FTAG</th>\n",
              "      <th>FTR</th>\n",
              "      <th>HTHG</th>\n",
              "      <th>HTAG</th>\n",
              "      <th>HTR</th>\n",
              "      <th>HS</th>\n",
              "      <th>...</th>\n",
              "      <th>HST</th>\n",
              "      <th>AST</th>\n",
              "      <th>HF</th>\n",
              "      <th>AF</th>\n",
              "      <th>HC</th>\n",
              "      <th>AC</th>\n",
              "      <th>HY</th>\n",
              "      <th>AY</th>\n",
              "      <th>HR</th>\n",
              "      <th>AR</th>\n",
              "    </tr>\n",
              "  </thead>\n",
              "  <tbody>\n",
              "    <tr>\n",
              "      <th>0</th>\n",
              "      <td>733305</td>\n",
              "      <td>5</td>\n",
              "      <td>4</td>\n",
              "      <td>2.0</td>\n",
              "      <td>0.0</td>\n",
              "      <td>-1</td>\n",
              "      <td>0.0</td>\n",
              "      <td>0.0</td>\n",
              "      <td>0</td>\n",
              "      <td>17.0</td>\n",
              "      <td>...</td>\n",
              "      <td>11.0</td>\n",
              "      <td>11.0</td>\n",
              "      <td>9.0</td>\n",
              "      <td>16.0</td>\n",
              "      <td>8.0</td>\n",
              "      <td>7.0</td>\n",
              "      <td>2.0</td>\n",
              "      <td>3.0</td>\n",
              "      <td>0.0</td>\n",
              "      <td>0.0</td>\n",
              "    </tr>\n",
              "    <tr>\n",
              "      <th>1</th>\n",
              "      <td>733305</td>\n",
              "      <td>6</td>\n",
              "      <td>11</td>\n",
              "      <td>3.0</td>\n",
              "      <td>1.0</td>\n",
              "      <td>-1</td>\n",
              "      <td>2.0</td>\n",
              "      <td>0.0</td>\n",
              "      <td>-1</td>\n",
              "      <td>12.0</td>\n",
              "      <td>...</td>\n",
              "      <td>6.0</td>\n",
              "      <td>8.0</td>\n",
              "      <td>8.0</td>\n",
              "      <td>21.0</td>\n",
              "      <td>2.0</td>\n",
              "      <td>6.0</td>\n",
              "      <td>1.0</td>\n",
              "      <td>2.0</td>\n",
              "      <td>0.0</td>\n",
              "      <td>0.0</td>\n",
              "    </tr>\n",
              "    <tr>\n",
              "      <th>2</th>\n",
              "      <td>733305</td>\n",
              "      <td>1</td>\n",
              "      <td>0</td>\n",
              "      <td>1.0</td>\n",
              "      <td>3.0</td>\n",
              "      <td>1</td>\n",
              "      <td>1.0</td>\n",
              "      <td>2.0</td>\n",
              "      <td>1</td>\n",
              "      <td>12.0</td>\n",
              "      <td>...</td>\n",
              "      <td>8.0</td>\n",
              "      <td>9.0</td>\n",
              "      <td>12.0</td>\n",
              "      <td>10.0</td>\n",
              "      <td>7.0</td>\n",
              "      <td>17.0</td>\n",
              "      <td>2.0</td>\n",
              "      <td>2.0</td>\n",
              "      <td>0.0</td>\n",
              "      <td>0.0</td>\n",
              "    </tr>\n",
              "    <tr>\n",
              "      <th>3</th>\n",
              "      <td>733305</td>\n",
              "      <td>10</td>\n",
              "      <td>12</td>\n",
              "      <td>0.0</td>\n",
              "      <td>0.0</td>\n",
              "      <td>0</td>\n",
              "      <td>0.0</td>\n",
              "      <td>0.0</td>\n",
              "      <td>0</td>\n",
              "      <td>27.0</td>\n",
              "      <td>...</td>\n",
              "      <td>11.0</td>\n",
              "      <td>2.0</td>\n",
              "      <td>8.0</td>\n",
              "      <td>10.0</td>\n",
              "      <td>20.0</td>\n",
              "      <td>3.0</td>\n",
              "      <td>1.0</td>\n",
              "      <td>1.0</td>\n",
              "      <td>0.0</td>\n",
              "      <td>0.0</td>\n",
              "    </tr>\n",
              "    <tr>\n",
              "      <th>4</th>\n",
              "      <td>733306</td>\n",
              "      <td>3</td>\n",
              "      <td>2</td>\n",
              "      <td>2.0</td>\n",
              "      <td>2.0</td>\n",
              "      <td>0</td>\n",
              "      <td>1.0</td>\n",
              "      <td>0.0</td>\n",
              "      <td>-1</td>\n",
              "      <td>9.0</td>\n",
              "      <td>...</td>\n",
              "      <td>5.0</td>\n",
              "      <td>8.0</td>\n",
              "      <td>11.0</td>\n",
              "      <td>12.0</td>\n",
              "      <td>4.0</td>\n",
              "      <td>6.0</td>\n",
              "      <td>0.0</td>\n",
              "      <td>1.0</td>\n",
              "      <td>0.0</td>\n",
              "      <td>0.0</td>\n",
              "    </tr>\n",
              "    <tr>\n",
              "      <th>...</th>\n",
              "      <td>...</td>\n",
              "      <td>...</td>\n",
              "      <td>...</td>\n",
              "      <td>...</td>\n",
              "      <td>...</td>\n",
              "      <td>...</td>\n",
              "      <td>...</td>\n",
              "      <td>...</td>\n",
              "      <td>...</td>\n",
              "      <td>...</td>\n",
              "      <td>...</td>\n",
              "      <td>...</td>\n",
              "      <td>...</td>\n",
              "      <td>...</td>\n",
              "      <td>...</td>\n",
              "      <td>...</td>\n",
              "      <td>...</td>\n",
              "      <td>...</td>\n",
              "      <td>...</td>\n",
              "      <td>...</td>\n",
              "      <td>...</td>\n",
              "    </tr>\n",
              "    <tr>\n",
              "      <th>5404</th>\n",
              "      <td>738555</td>\n",
              "      <td>9</td>\n",
              "      <td>29</td>\n",
              "      <td>2.0</td>\n",
              "      <td>1.0</td>\n",
              "      <td>-1</td>\n",
              "      <td>1.0</td>\n",
              "      <td>0.0</td>\n",
              "      <td>-1</td>\n",
              "      <td>14.0</td>\n",
              "      <td>...</td>\n",
              "      <td>5.0</td>\n",
              "      <td>3.0</td>\n",
              "      <td>9.0</td>\n",
              "      <td>9.0</td>\n",
              "      <td>5.0</td>\n",
              "      <td>5.0</td>\n",
              "      <td>1.0</td>\n",
              "      <td>2.0</td>\n",
              "      <td>1.0</td>\n",
              "      <td>0.0</td>\n",
              "    </tr>\n",
              "    <tr>\n",
              "      <th>5405</th>\n",
              "      <td>738555</td>\n",
              "      <td>20</td>\n",
              "      <td>10</td>\n",
              "      <td>3.0</td>\n",
              "      <td>0.0</td>\n",
              "      <td>-1</td>\n",
              "      <td>2.0</td>\n",
              "      <td>0.0</td>\n",
              "      <td>-1</td>\n",
              "      <td>12.0</td>\n",
              "      <td>...</td>\n",
              "      <td>6.0</td>\n",
              "      <td>4.0</td>\n",
              "      <td>9.0</td>\n",
              "      <td>7.0</td>\n",
              "      <td>2.0</td>\n",
              "      <td>7.0</td>\n",
              "      <td>1.0</td>\n",
              "      <td>1.0</td>\n",
              "      <td>0.0</td>\n",
              "      <td>0.0</td>\n",
              "    </tr>\n",
              "    <tr>\n",
              "      <th>5406</th>\n",
              "      <td>738556</td>\n",
              "      <td>13</td>\n",
              "      <td>17</td>\n",
              "      <td>1.0</td>\n",
              "      <td>0.0</td>\n",
              "      <td>-1</td>\n",
              "      <td>1.0</td>\n",
              "      <td>0.0</td>\n",
              "      <td>-1</td>\n",
              "      <td>12.0</td>\n",
              "      <td>...</td>\n",
              "      <td>3.0</td>\n",
              "      <td>5.0</td>\n",
              "      <td>19.0</td>\n",
              "      <td>14.0</td>\n",
              "      <td>4.0</td>\n",
              "      <td>6.0</td>\n",
              "      <td>2.0</td>\n",
              "      <td>3.0</td>\n",
              "      <td>1.0</td>\n",
              "      <td>0.0</td>\n",
              "    </tr>\n",
              "    <tr>\n",
              "      <th>5407</th>\n",
              "      <td>738556</td>\n",
              "      <td>39</td>\n",
              "      <td>37</td>\n",
              "      <td>1.0</td>\n",
              "      <td>0.0</td>\n",
              "      <td>-1</td>\n",
              "      <td>1.0</td>\n",
              "      <td>0.0</td>\n",
              "      <td>-1</td>\n",
              "      <td>6.0</td>\n",
              "      <td>...</td>\n",
              "      <td>2.0</td>\n",
              "      <td>4.0</td>\n",
              "      <td>15.0</td>\n",
              "      <td>14.0</td>\n",
              "      <td>0.0</td>\n",
              "      <td>2.0</td>\n",
              "      <td>4.0</td>\n",
              "      <td>2.0</td>\n",
              "      <td>0.0</td>\n",
              "      <td>0.0</td>\n",
              "    </tr>\n",
              "    <tr>\n",
              "      <th>5408</th>\n",
              "      <td>738559</td>\n",
              "      <td>9</td>\n",
              "      <td>37</td>\n",
              "      <td>2.0</td>\n",
              "      <td>2.0</td>\n",
              "      <td>0</td>\n",
              "      <td>0.0</td>\n",
              "      <td>1.0</td>\n",
              "      <td>1</td>\n",
              "      <td>24.0</td>\n",
              "      <td>...</td>\n",
              "      <td>7.0</td>\n",
              "      <td>2.0</td>\n",
              "      <td>7.0</td>\n",
              "      <td>11.0</td>\n",
              "      <td>6.0</td>\n",
              "      <td>5.0</td>\n",
              "      <td>1.0</td>\n",
              "      <td>3.0</td>\n",
              "      <td>0.0</td>\n",
              "      <td>0.0</td>\n",
              "    </tr>\n",
              "  </tbody>\n",
              "</table>\n",
              "<p>5409 rows × 21 columns</p>\n",
              "</div>\n",
              "      <button class=\"colab-df-convert\" onclick=\"convertToInteractive('df-0f436057-1bb5-435f-a51f-4492c59e2def')\"\n",
              "              title=\"Convert this dataframe to an interactive table.\"\n",
              "              style=\"display:none;\">\n",
              "        \n",
              "  <svg xmlns=\"http://www.w3.org/2000/svg\" height=\"24px\"viewBox=\"0 0 24 24\"\n",
              "       width=\"24px\">\n",
              "    <path d=\"M0 0h24v24H0V0z\" fill=\"none\"/>\n",
              "    <path d=\"M18.56 5.44l.94 2.06.94-2.06 2.06-.94-2.06-.94-.94-2.06-.94 2.06-2.06.94zm-11 1L8.5 8.5l.94-2.06 2.06-.94-2.06-.94L8.5 2.5l-.94 2.06-2.06.94zm10 10l.94 2.06.94-2.06 2.06-.94-2.06-.94-.94-2.06-.94 2.06-2.06.94z\"/><path d=\"M17.41 7.96l-1.37-1.37c-.4-.4-.92-.59-1.43-.59-.52 0-1.04.2-1.43.59L10.3 9.45l-7.72 7.72c-.78.78-.78 2.05 0 2.83L4 21.41c.39.39.9.59 1.41.59.51 0 1.02-.2 1.41-.59l7.78-7.78 2.81-2.81c.8-.78.8-2.07 0-2.86zM5.41 20L4 18.59l7.72-7.72 1.47 1.35L5.41 20z\"/>\n",
              "  </svg>\n",
              "      </button>\n",
              "      \n",
              "  <style>\n",
              "    .colab-df-container {\n",
              "      display:flex;\n",
              "      flex-wrap:wrap;\n",
              "      gap: 12px;\n",
              "    }\n",
              "\n",
              "    .colab-df-convert {\n",
              "      background-color: #E8F0FE;\n",
              "      border: none;\n",
              "      border-radius: 50%;\n",
              "      cursor: pointer;\n",
              "      display: none;\n",
              "      fill: #1967D2;\n",
              "      height: 32px;\n",
              "      padding: 0 0 0 0;\n",
              "      width: 32px;\n",
              "    }\n",
              "\n",
              "    .colab-df-convert:hover {\n",
              "      background-color: #E2EBFA;\n",
              "      box-shadow: 0px 1px 2px rgba(60, 64, 67, 0.3), 0px 1px 3px 1px rgba(60, 64, 67, 0.15);\n",
              "      fill: #174EA6;\n",
              "    }\n",
              "\n",
              "    [theme=dark] .colab-df-convert {\n",
              "      background-color: #3B4455;\n",
              "      fill: #D2E3FC;\n",
              "    }\n",
              "\n",
              "    [theme=dark] .colab-df-convert:hover {\n",
              "      background-color: #434B5C;\n",
              "      box-shadow: 0px 1px 3px 1px rgba(0, 0, 0, 0.15);\n",
              "      filter: drop-shadow(0px 1px 2px rgba(0, 0, 0, 0.3));\n",
              "      fill: #FFFFFF;\n",
              "    }\n",
              "  </style>\n",
              "\n",
              "      <script>\n",
              "        const buttonEl =\n",
              "          document.querySelector('#df-0f436057-1bb5-435f-a51f-4492c59e2def button.colab-df-convert');\n",
              "        buttonEl.style.display =\n",
              "          google.colab.kernel.accessAllowed ? 'block' : 'none';\n",
              "\n",
              "        async function convertToInteractive(key) {\n",
              "          const element = document.querySelector('#df-0f436057-1bb5-435f-a51f-4492c59e2def');\n",
              "          const dataTable =\n",
              "            await google.colab.kernel.invokeFunction('convertToInteractive',\n",
              "                                                     [key], {});\n",
              "          if (!dataTable) return;\n",
              "\n",
              "          const docLinkHtml = 'Like what you see? Visit the ' +\n",
              "            '<a target=\"_blank\" href=https://colab.research.google.com/notebooks/data_table.ipynb>data table notebook</a>'\n",
              "            + ' to learn more about interactive tables.';\n",
              "          element.innerHTML = '';\n",
              "          dataTable['output_type'] = 'display_data';\n",
              "          await google.colab.output.renderOutput(dataTable, element);\n",
              "          const docLink = document.createElement('div');\n",
              "          docLink.innerHTML = docLinkHtml;\n",
              "          element.appendChild(docLink);\n",
              "        }\n",
              "      </script>\n",
              "    </div>\n",
              "  </div>\n",
              "  "
            ]
          },
          "metadata": {},
          "execution_count": 4
        }
      ]
    },
    {
      "cell_type": "code",
      "source": [
        "n_classes = 4\n",
        "\n",
        "#Y is read in horizontally, so transpose\n",
        "y = y.transpose()"
      ],
      "metadata": {
        "id": "4vJgN81s8T0n"
      },
      "execution_count": null,
      "outputs": []
    },
    {
      "cell_type": "code",
      "source": [
        "from sklearn.preprocessing import StandardScaler\n",
        "from sklearn.preprocessing import MinMaxScaler\n",
        "from sklearn.model_selection import train_test_split\n",
        "from sklearn.preprocessing import OneHotEncoder\n",
        "\n",
        "ohe = OneHotEncoder()\n",
        "y_ohe = ohe.fit_transform(y).toarray()\n",
        "\n",
        "X_tr, X_te, y_tr, y_te = train_test_split(X, y_ohe, test_size = .2)\n",
        "\n",
        "#trying unscaled data, remove later\n",
        "\"\"\"\n",
        "X_tr_scaled = X_tr\n",
        "X_te_scaled = X_te\n",
        "\"\"\"\n",
        "\n",
        "scaler = StandardScaler()\n",
        "\n",
        "X_tr_scaled = scaler.fit_transform(X_tr)\n",
        "X_te_scaled = scaler.transform(X_te)\n",
        "\n",
        "\"\"\"\n",
        "scaler = MinMaxScaler()\n",
        "\n",
        "X_tr_scaled = scaler.fit_transform(X_tr)\n",
        "X_te_scaled = scaler.transform(X_te)\n",
        "\"\"\""
      ],
      "metadata": {
        "id": "eio1vwYd9YES",
        "colab": {
          "base_uri": "https://localhost:8080/",
          "height": 36
        },
        "outputId": "700621a9-6bd3-4354-bdab-b4cba3a67a91"
      },
      "execution_count": null,
      "outputs": [
        {
          "output_type": "execute_result",
          "data": {
            "text/plain": [
              "'\\nscaler = MinMaxScaler()\\n\\nX_tr_scaled = scaler.fit_transform(X_tr)\\nX_te_scaled = scaler.transform(X_te)\\n'"
            ],
            "application/vnd.google.colaboratory.intrinsic+json": {
              "type": "string"
            }
          },
          "metadata": {},
          "execution_count": 6
        }
      ]
    },
    {
      "cell_type": "code",
      "source": [
        "print(X_tr_scaled.shape)\n",
        "print(X_te_scaled.shape)"
      ],
      "metadata": {
        "id": "KszZk1czSOgv",
        "colab": {
          "base_uri": "https://localhost:8080/"
        },
        "outputId": "a9b876ac-2a8f-43f0-858c-d58c766cd8a9"
      },
      "execution_count": null,
      "outputs": [
        {
          "output_type": "stream",
          "name": "stdout",
          "text": [
            "(4327, 21)\n",
            "(1082, 21)\n"
          ]
        }
      ]
    },
    {
      "cell_type": "code",
      "source": [
        "import keras\n",
        "from keras.models import Sequential\n",
        "from keras.layers import Dense\n",
        "\n",
        "\"\"\"\n",
        "BUILDING NEURAL NETWORK:\n",
        "\n",
        "Sizing loosely based on:\n",
        "http://www.faqs.org/faqs/ai-faq/neural-nets/part1/preamble.html\n",
        "\n",
        "Jeff Heaton: \"The optimal size of the hidden layer is usually between the size\n",
        "of the input and size of the output layers\"\n",
        "\n",
        "For the future: iterate through different sizing, pruning parameters etc\n",
        "\"\"\"\n",
        "# Three Hidden Layers of 261, 256, 128, 64, 4 dimension\n",
        "\n",
        "model = Sequential()\n",
        "model.add(Dense(261, input_dim = 261, activation = 'relu'))\n",
        "model.add(Dense(256, activation = 'relu'))\n",
        "model.add(Dense(128, activation = 'relu'))\n",
        "model.add(Dense(64, activation = 'relu'))\n",
        "model.add(Dense(4, activation = 'softmax'))\n",
        "\n",
        "\"\"\"\n",
        "model = Sequential()\n",
        "model.add(Dense(32, input_dim = 21, activation = 'relu'))\n",
        "model.add(Dense(16, activation = 'relu'))\n",
        "model.add(Dense(8, activation = 'relu'))\n",
        "model.add(Dense(4, activation = 'softmax'))\n",
        "\"\"\""
      ],
      "metadata": {
        "id": "i9WEGlwmQvzF"
      },
      "execution_count": null,
      "outputs": []
    },
    {
      "cell_type": "code",
      "source": [
        "%pip install tensorflow-addons\n",
        "import tensorflow_addons as tfa\n",
        "\"\"\"\n",
        "DEFINE LOSS AND OPTIMIZER:\n",
        "\n",
        "Adam is an extended version of stochastic gradient descent.\n",
        "https://optimization.cbe.cornell.edu/index.php?title=Adam\n",
        "\n",
        "After doing some research, the most common loss function seems to be categorical\n",
        "crossentropy, but I believe for these data, a sigmoid FOCAL cross-entropy loss\n",
        "might prove more effective. This is due to the outsized imbalanced \"hit-rate.\"\n",
        "\n",
        "https://arxiv.org/pdf/1708.02002.pdf\n",
        "\n",
        "A gamma of 2 is extraordinarily high, but data is extraordinarily imbalanced\n",
        "\"\"\"\n",
        "\n",
        "model.compile(loss=tfa.losses.SigmoidFocalCrossEntropy(gamma = 2), optimizer = 'adam',\n",
        "              metrics = ['accuracy']\n",
        "              )"
      ],
      "metadata": {
        "id": "dBENFCqCTTUz",
        "colab": {
          "base_uri": "https://localhost:8080/"
        },
        "outputId": "da94752d-931b-4c85-d6d8-5f1920a854ac"
      },
      "execution_count": null,
      "outputs": [
        {
          "output_type": "stream",
          "name": "stdout",
          "text": [
            "Looking in indexes: https://pypi.org/simple, https://us-python.pkg.dev/colab-wheels/public/simple/\n",
            "Requirement already satisfied: tensorflow-addons in /usr/local/lib/python3.8/dist-packages (0.19.0)\n",
            "Requirement already satisfied: packaging in /usr/local/lib/python3.8/dist-packages (from tensorflow-addons) (23.0)\n",
            "Requirement already satisfied: typeguard>=2.7 in /usr/local/lib/python3.8/dist-packages (from tensorflow-addons) (2.7.1)\n"
          ]
        }
      ]
    },
    {
      "cell_type": "code",
      "source": [
        "history = model.fit(X_tr_scaled, y_tr,validation_data = (X_te_scaled,y_te), epochs=30, batch_size=50)"
      ],
      "metadata": {
        "colab": {
          "base_uri": "https://localhost:8080/"
        },
        "id": "44HWxNGRnqWQ",
        "outputId": "fe279c0e-8913-4d01-8aae-8a20425d4a68"
      },
      "execution_count": null,
      "outputs": [
        {
          "output_type": "stream",
          "name": "stdout",
          "text": [
            "Epoch 1/30\n",
            "87/87 [==============================] - 3s 13ms/step - loss: 0.2780 - accuracy: 0.1581 - val_loss: 0.2253 - val_accuracy: 0.5083\n",
            "Epoch 2/30\n",
            "87/87 [==============================] - 0s 6ms/step - loss: 0.2130 - accuracy: 0.5625 - val_loss: 0.1970 - val_accuracy: 0.5730\n",
            "Epoch 3/30\n",
            "87/87 [==============================] - 1s 8ms/step - loss: 0.1888 - accuracy: 0.5750 - val_loss: 0.1817 - val_accuracy: 0.5749\n",
            "Epoch 4/30\n",
            "87/87 [==============================] - 1s 7ms/step - loss: 0.1792 - accuracy: 0.5755 - val_loss: 0.1768 - val_accuracy: 0.5739\n",
            "Epoch 5/30\n",
            "87/87 [==============================] - 1s 7ms/step - loss: 0.1752 - accuracy: 0.5755 - val_loss: 0.1742 - val_accuracy: 0.5739\n",
            "Epoch 6/30\n",
            "87/87 [==============================] - 1s 6ms/step - loss: 0.1731 - accuracy: 0.5752 - val_loss: 0.1729 - val_accuracy: 0.5758\n",
            "Epoch 7/30\n",
            "87/87 [==============================] - 1s 8ms/step - loss: 0.1716 - accuracy: 0.5755 - val_loss: 0.1720 - val_accuracy: 0.5758\n",
            "Epoch 8/30\n",
            "87/87 [==============================] - 1s 9ms/step - loss: 0.1705 - accuracy: 0.5761 - val_loss: 0.1714 - val_accuracy: 0.5758\n",
            "Epoch 9/30\n",
            "87/87 [==============================] - 1s 8ms/step - loss: 0.1697 - accuracy: 0.5771 - val_loss: 0.1709 - val_accuracy: 0.5767\n",
            "Epoch 10/30\n",
            "87/87 [==============================] - 1s 6ms/step - loss: 0.1688 - accuracy: 0.5796 - val_loss: 0.1703 - val_accuracy: 0.5767\n",
            "Epoch 11/30\n",
            "87/87 [==============================] - 1s 7ms/step - loss: 0.1679 - accuracy: 0.5835 - val_loss: 0.1698 - val_accuracy: 0.5850\n",
            "Epoch 12/30\n",
            "87/87 [==============================] - 1s 11ms/step - loss: 0.1669 - accuracy: 0.5877 - val_loss: 0.1693 - val_accuracy: 0.5832\n",
            "Epoch 13/30\n",
            "87/87 [==============================] - 1s 9ms/step - loss: 0.1656 - accuracy: 0.5990 - val_loss: 0.1679 - val_accuracy: 0.6035\n",
            "Epoch 14/30\n",
            "87/87 [==============================] - 1s 10ms/step - loss: 0.1638 - accuracy: 0.6152 - val_loss: 0.1664 - val_accuracy: 0.6072\n",
            "Epoch 15/30\n",
            "87/87 [==============================] - 1s 10ms/step - loss: 0.1617 - accuracy: 0.6286 - val_loss: 0.1650 - val_accuracy: 0.6183\n",
            "Epoch 16/30\n",
            "87/87 [==============================] - 1s 11ms/step - loss: 0.1590 - accuracy: 0.6503 - val_loss: 0.1618 - val_accuracy: 0.6257\n",
            "Epoch 17/30\n",
            "87/87 [==============================] - 1s 11ms/step - loss: 0.1561 - accuracy: 0.6605 - val_loss: 0.1593 - val_accuracy: 0.6322\n",
            "Epoch 18/30\n",
            "87/87 [==============================] - 1s 6ms/step - loss: 0.1531 - accuracy: 0.6684 - val_loss: 0.1559 - val_accuracy: 0.6506\n",
            "Epoch 19/30\n",
            "87/87 [==============================] - 1s 9ms/step - loss: 0.1494 - accuracy: 0.6834 - val_loss: 0.1537 - val_accuracy: 0.6627\n",
            "Epoch 20/30\n",
            "87/87 [==============================] - 1s 8ms/step - loss: 0.1458 - accuracy: 0.6922 - val_loss: 0.1510 - val_accuracy: 0.6701\n",
            "Epoch 21/30\n",
            "87/87 [==============================] - 1s 11ms/step - loss: 0.1429 - accuracy: 0.6986 - val_loss: 0.1494 - val_accuracy: 0.6765\n",
            "Epoch 22/30\n",
            "87/87 [==============================] - 1s 11ms/step - loss: 0.1406 - accuracy: 0.7026 - val_loss: 0.1484 - val_accuracy: 0.6747\n",
            "Epoch 23/30\n",
            "87/87 [==============================] - 0s 5ms/step - loss: 0.1385 - accuracy: 0.7042 - val_loss: 0.1491 - val_accuracy: 0.6830\n",
            "Epoch 24/30\n",
            "87/87 [==============================] - 0s 5ms/step - loss: 0.1371 - accuracy: 0.7016 - val_loss: 0.1469 - val_accuracy: 0.6765\n",
            "Epoch 25/30\n",
            "87/87 [==============================] - 0s 5ms/step - loss: 0.1357 - accuracy: 0.7088 - val_loss: 0.1471 - val_accuracy: 0.6719\n",
            "Epoch 26/30\n",
            "87/87 [==============================] - 0s 5ms/step - loss: 0.1345 - accuracy: 0.7097 - val_loss: 0.1466 - val_accuracy: 0.6747\n",
            "Epoch 27/30\n",
            "87/87 [==============================] - 0s 5ms/step - loss: 0.1332 - accuracy: 0.7146 - val_loss: 0.1481 - val_accuracy: 0.6728\n",
            "Epoch 28/30\n",
            "87/87 [==============================] - 0s 6ms/step - loss: 0.1324 - accuracy: 0.7162 - val_loss: 0.1473 - val_accuracy: 0.6738\n",
            "Epoch 29/30\n",
            "87/87 [==============================] - 1s 6ms/step - loss: 0.1316 - accuracy: 0.7162 - val_loss: 0.1460 - val_accuracy: 0.6765\n",
            "Epoch 30/30\n",
            "87/87 [==============================] - 0s 5ms/step - loss: 0.1305 - accuracy: 0.7174 - val_loss: 0.1461 - val_accuracy: 0.6885\n"
          ]
        }
      ]
    },
    {
      "cell_type": "code",
      "source": [
        "import numpy as np\n",
        "\n",
        "y_pred = model.predict(X_te_scaled)\n",
        "#Converting predictions to label\n",
        "pred = list()\n",
        "for i in range(len(y_pred)):\n",
        "    pred.append(np.argmax(y_pred[i]))\n",
        "#Converting one hot encoded test label to label\n",
        "test = list()\n",
        "for i in range(len(y_te)):\n",
        "    test.append(np.argmax(y_te[i]))"
      ],
      "metadata": {
        "colab": {
          "base_uri": "https://localhost:8080/"
        },
        "id": "q__KeML7wg2P",
        "outputId": "e9b07e5c-2443-4736-93bb-1e053d56a350"
      },
      "execution_count": null,
      "outputs": [
        {
          "output_type": "stream",
          "name": "stdout",
          "text": [
            "34/34 [==============================] - 1s 6ms/step\n"
          ]
        }
      ]
    },
    {
      "cell_type": "code",
      "source": [
        "from sklearn.metrics import accuracy_score, balanced_accuracy_score\n",
        "\n",
        "a = accuracy_score(pred, test)\n",
        "b = balanced_accuracy_score(pred, test)\n",
        "\n",
        "print('Accuracy is:', a * 100)\n",
        "print('Balanced Accuracy is', b * 100)"
      ],
      "metadata": {
        "colab": {
          "base_uri": "https://localhost:8080/"
        },
        "id": "7o460cN2wj-_",
        "outputId": "eee4a3fc-79ee-4b89-8f51-5d1d78b278be"
      },
      "execution_count": null,
      "outputs": [
        {
          "output_type": "stream",
          "name": "stdout",
          "text": [
            "Accuracy is: 68.8539741219963\n",
            "Balanced Accuracy is 67.98578349525806\n"
          ]
        }
      ]
    },
    {
      "cell_type": "code",
      "source": [
        "import matplotlib.pyplot as plt\n",
        "\n",
        "epochs = range(1,31)\n",
        "quad_fit = np.poly1d(np.polyfit(epochs, history.history['accuracy'], 3))\n",
        "quad_fit_val = np.poly1d(np.polyfit(epochs, history.history['val_accuracy'], 3))\n",
        "\n",
        "#plt.plot(epochs, quad_fit(epochs))\n",
        "#plt.plot(epochs, quad_fit_val(epochs))\n",
        "\n",
        "plt.plot(history.history['accuracy'])\n",
        "plt.plot(history.history['val_accuracy'])\n",
        "plt.title('Model Accuracy')\n",
        "plt.ylabel('Accuracy')\n",
        "plt.xlabel('Epoch')\n",
        "plt.legend(['Train', 'Test'], loc='upper left')\n",
        "plt.ylim((0,1))\n",
        "plt.savefig(\"CategoricalModelPerformance.eps\", dpi=1200)\n",
        "plt.show()\n",
        "\n",
        "#plt.plot(epochs, quad_fit(epochs))\n",
        "#plt.plot(epochs, quad_fit_val(epochs))\n",
        "\n",
        "plt.plot(history.history['accuracy'])\n",
        "plt.plot(history.history['val_accuracy'])\n",
        "plt.title('Model Accuracy (Rescaled)')\n",
        "plt.ylabel('Accuracy')\n",
        "plt.xlabel('Epoch')\n",
        "plt.legend(['Train', 'Test'], loc='upper left')\n",
        "plt.ylim((.55,.8))\n",
        "plt.savefig(\"CategoricalPerformanceScaled.eps\", dpi=1200)\n",
        "plt.show()\n",
        "\"\"\"\n",
        "plt.plot(epochs, quad_fit(epochs))\n",
        "plt.plot(epochs, quad_fit_val(epochs))\n",
        "\n",
        "plt.plot(history.history['accuracy'])\n",
        "plt.plot(history.history['val_accuracy'])\n",
        "plt.title('Model accuracy')\n",
        "plt.ylabel('Accuracy')\n",
        "plt.xlabel('Epoch')\n",
        "plt.legend(['Train', 'Test'], loc='upper left')\n",
        "plt.ylim((.6,1))\n",
        "plt.show()\n",
        "\"\"\""
      ],
      "metadata": {
        "colab": {
          "base_uri": "https://localhost:8080/",
          "height": 665
        },
        "id": "r0qGw0OuoF5J",
        "outputId": "b38a9b43-15e0-475a-e9d1-4ab946206d39"
      },
      "execution_count": null,
      "outputs": [
        {
          "output_type": "stream",
          "name": "stderr",
          "text": [
            "WARNING:matplotlib.backends.backend_ps:The PostScript backend does not support transparency; partially transparent artists will be rendered opaque.\n"
          ]
        },
        {
          "output_type": "display_data",
          "data": {
            "text/plain": [
              "<Figure size 432x288 with 1 Axes>"
            ],
            "image/png": "[encoded data removed]"
          },
          "metadata": {
            "needs_background": "light"
          }
        },
        {
          "output_type": "stream",
          "name": "stderr",
          "text": [
            "WARNING:matplotlib.backends.backend_ps:The PostScript backend does not support transparency; partially transparent artists will be rendered opaque.\n"
          ]
        },
        {
          "output_type": "display_data",
          "data": {
            "text/plain": [
              "<Figure size 432x288 with 1 Axes>"
            ],
            "image/png": "[encoded data removed]"
          },
          "metadata": {
            "needs_background": "light"
          }
        },
        {
          "output_type": "execute_result",
          "data": {
            "text/plain": [
              "\"\\nplt.plot(epochs, quad_fit(epochs))\\nplt.plot(epochs, quad_fit_val(epochs))\\n\\nplt.plot(history.history['accuracy'])\\nplt.plot(history.history['val_accuracy'])\\nplt.title('Model accuracy')\\nplt.ylabel('Accuracy')\\nplt.xlabel('Epoch')\\nplt.legend(['Train', 'Test'], loc='upper left')\\nplt.ylim((.6,1))\\nplt.show()\\n\""
            ],
            "application/vnd.google.colaboratory.intrinsic+json": {
              "type": "string"
            }
          },
          "metadata": {},
          "execution_count": 19
        }
      ]
    },
    {
      "cell_type": "code",
      "source": [
        "def getMaxfromRoots(model, root1, root2):\n",
        "  maxX = (root2 + abs(root2 - root1))\n",
        "  return maxX, model(maxX)\n",
        "print(getMaxfromRoots(quad_fit, quad_fit.roots[0], quad_fit.roots[1]))\n",
        "print(quad_fit_val.roots)\n",
        "\n",
        "#validation maximum X value is 56.2 epochs\n",
        "\n",
        "print(\"Max validation accuracy achieved is: \" + str(100 * quad_fit_val(56.2)) + \"%\")"
      ],
      "metadata": {
        "colab": {
          "base_uri": "https://localhost:8080/"
        },
        "id": "1ZXljCTNqcTk",
        "outputId": "23e4b9ad-7c17-425d-d959-b7030bae854a"
      },
      "execution_count": null,
      "outputs": [
        {
          "output_type": "stream",
          "name": "stdout",
          "text": [
            "((83.30980668559762-25.258090411805092j), (5.169962256097762-9.190697939158248j))\n",
            "[54.28495454 +0.j         -5.74334285+26.18669318j\n",
            " -5.74334285-26.18669318j]\n",
            "Max validation accuracy achieved is: -12.314767599725684%\n"
          ]
        }
      ]
    },
    {
      "cell_type": "code",
      "source": [
        "from sklearn.metrics import confusion_matrix, ConfusionMatrixDisplay\n",
        "\n",
        "disp = ConfusionMatrixDisplay(confusion_matrix(test, pred), display_labels = [\"<-2%\", \"[-2%, 0%]\",\"[0%, 2%]\",\">2%\"])\n",
        "\n",
        "disp.plot()\n",
        "plt.show()"
      ],
      "metadata": {
        "colab": {
          "base_uri": "https://localhost:8080/",
          "height": 279
        },
        "id": "czs8iG5l4KW5",
        "outputId": "e394ba3e-8f59-4053-c181-93c618b91003"
      },
      "execution_count": null,
      "outputs": [
        {
          "output_type": "display_data",
          "data": {
            "text/plain": [
              "<Figure size 432x288 with 2 Axes>"
            ],
            "image/png": "[encoded data removed]"
          },
          "metadata": {
            "needs_background": "light"
          }
        }
      ]
    }
  ]
}