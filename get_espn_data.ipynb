{
 "cells": [
  {
   "cell_type": "markdown",
   "id": "bb644287-0c6d-46b8-b1b6-d661937ad9f2",
   "metadata": {},
   "source": [
    "## Getting Premier League Data from ESPN"
   ]
  },
  {
   "cell_type": "markdown",
   "id": "4be02fe3",
   "metadata": {},
   "source": [
    "- GP: Games Played\n",
    "- W: Wins\n",
    "- D: Draws\n",
    "- L: Losses\n",
    "- F: Goals For\n",
    "- A: Goals Against\n",
    "- GD: Goal Difference\n",
    "- P: Points"
   ]
  },
  {
   "cell_type": "code",
   "execution_count": 23,
   "id": "e9331baa-9c56-401c-a521-8b0ca671b012",
   "metadata": {},
   "outputs": [],
   "source": [
    "from bs4 import BeautifulSoup\n",
    "import requests\n",
    "import pandas as pd\n",
    "import numpy as np"
   ]
  },
  {
   "cell_type": "markdown",
   "id": "94d3f6af",
   "metadata": {},
   "source": [
    "### Standings"
   ]
  },
  {
   "cell_type": "code",
   "execution_count": 24,
   "id": "972ecc2a-f911-4787-820c-2ef972caa306",
   "metadata": {},
   "outputs": [],
   "source": [
    "all_years_standings = []\n",
    "for year in range(2009, 2023):\n",
    "    # Go through all pages since the url only differs by suffix of year\n",
    "    url_base = \"https://www.espn.com/soccer/standings/_/league/ENG.1/sort/gamesplayed/dir/asc/season/\"\n",
    "    year_str = str(year)\n",
    "    year_url = url_base + year_str\n",
    "    page = requests.get(year_url)\n",
    "    soup = BeautifulSoup(page.content, \"html.parser\")\n",
    "    # Extract table to store it in the list with all the dataframes\n",
    "    table = soup.find_all(\"table\")\n",
    "    teams = pd.read_html(str(table))[0]\n",
    "    data = pd.read_html(str(table))[1]\n",
    "    season_results = pd.concat([teams, data], axis = 1)\n",
    "    season_results[\"Season\"] = season_results.columns[0]\n",
    "    season_results.rename(columns = {year_str + \"-\" + str(year + 1):\"Team\"}, inplace = True)\n",
    "    season_results[\"Rank\"] = np.arange(1, len(season_results) + 1)\n",
    "    # Get rid of the team abbrievation in front of the Team Name\n",
    "    season_results[\"Team\"] = season_results[\"Team\"].str.replace(r\"^[A-Z]{3}\", \"\", regex = True)\n",
    "    all_years_standings.append(season_results)\n",
    "    \n",
    "prem_standings = pd.concat(all_years_standings)"
   ]
  },
  {
   "cell_type": "code",
   "execution_count": 25,
   "id": "8d45dea3-99fc-4ba6-b5d6-91f4d3f9415d",
   "metadata": {},
   "outputs": [
    {
     "data": {
      "text/html": [
       "<div>\n",
       "<style scoped>\n",
       "    .dataframe tbody tr th:only-of-type {\n",
       "        vertical-align: middle;\n",
       "    }\n",
       "\n",
       "    .dataframe tbody tr th {\n",
       "        vertical-align: top;\n",
       "    }\n",
       "\n",
       "    .dataframe thead th {\n",
       "        text-align: right;\n",
       "    }\n",
       "</style>\n",
       "<table border=\"1\" class=\"dataframe\">\n",
       "  <thead>\n",
       "    <tr style=\"text-align: right;\">\n",
       "      <th></th>\n",
       "      <th>Team</th>\n",
       "      <th>GP</th>\n",
       "      <th>W</th>\n",
       "      <th>D</th>\n",
       "      <th>L</th>\n",
       "      <th>F</th>\n",
       "      <th>A</th>\n",
       "      <th>GD</th>\n",
       "      <th>P</th>\n",
       "      <th>Season</th>\n",
       "      <th>Rank</th>\n",
       "    </tr>\n",
       "  </thead>\n",
       "  <tbody>\n",
       "    <tr>\n",
       "      <th>0</th>\n",
       "      <td>Chelsea</td>\n",
       "      <td>38</td>\n",
       "      <td>27</td>\n",
       "      <td>5</td>\n",
       "      <td>6</td>\n",
       "      <td>103</td>\n",
       "      <td>32</td>\n",
       "      <td>71</td>\n",
       "      <td>86</td>\n",
       "      <td>2009-2010</td>\n",
       "      <td>1</td>\n",
       "    </tr>\n",
       "    <tr>\n",
       "      <th>1</th>\n",
       "      <td>Manchester United</td>\n",
       "      <td>38</td>\n",
       "      <td>27</td>\n",
       "      <td>4</td>\n",
       "      <td>7</td>\n",
       "      <td>86</td>\n",
       "      <td>28</td>\n",
       "      <td>58</td>\n",
       "      <td>85</td>\n",
       "      <td>2009-2010</td>\n",
       "      <td>2</td>\n",
       "    </tr>\n",
       "    <tr>\n",
       "      <th>2</th>\n",
       "      <td>Arsenal</td>\n",
       "      <td>38</td>\n",
       "      <td>23</td>\n",
       "      <td>6</td>\n",
       "      <td>9</td>\n",
       "      <td>83</td>\n",
       "      <td>41</td>\n",
       "      <td>42</td>\n",
       "      <td>75</td>\n",
       "      <td>2009-2010</td>\n",
       "      <td>3</td>\n",
       "    </tr>\n",
       "    <tr>\n",
       "      <th>3</th>\n",
       "      <td>Tottenham Hotspur</td>\n",
       "      <td>38</td>\n",
       "      <td>21</td>\n",
       "      <td>7</td>\n",
       "      <td>10</td>\n",
       "      <td>67</td>\n",
       "      <td>41</td>\n",
       "      <td>26</td>\n",
       "      <td>70</td>\n",
       "      <td>2009-2010</td>\n",
       "      <td>4</td>\n",
       "    </tr>\n",
       "    <tr>\n",
       "      <th>4</th>\n",
       "      <td>Manchester City</td>\n",
       "      <td>38</td>\n",
       "      <td>18</td>\n",
       "      <td>13</td>\n",
       "      <td>7</td>\n",
       "      <td>73</td>\n",
       "      <td>45</td>\n",
       "      <td>28</td>\n",
       "      <td>67</td>\n",
       "      <td>2009-2010</td>\n",
       "      <td>5</td>\n",
       "    </tr>\n",
       "    <tr>\n",
       "      <th>...</th>\n",
       "      <td>...</td>\n",
       "      <td>...</td>\n",
       "      <td>...</td>\n",
       "      <td>...</td>\n",
       "      <td>...</td>\n",
       "      <td>...</td>\n",
       "      <td>...</td>\n",
       "      <td>...</td>\n",
       "      <td>...</td>\n",
       "      <td>...</td>\n",
       "      <td>...</td>\n",
       "    </tr>\n",
       "    <tr>\n",
       "      <th>15</th>\n",
       "      <td>Southampton</td>\n",
       "      <td>22</td>\n",
       "      <td>4</td>\n",
       "      <td>3</td>\n",
       "      <td>15</td>\n",
       "      <td>18</td>\n",
       "      <td>40</td>\n",
       "      <td>-22</td>\n",
       "      <td>15</td>\n",
       "      <td>2022-2023</td>\n",
       "      <td>16</td>\n",
       "    </tr>\n",
       "    <tr>\n",
       "      <th>16</th>\n",
       "      <td>Manchester City</td>\n",
       "      <td>23</td>\n",
       "      <td>16</td>\n",
       "      <td>3</td>\n",
       "      <td>4</td>\n",
       "      <td>59</td>\n",
       "      <td>23</td>\n",
       "      <td>36</td>\n",
       "      <td>51</td>\n",
       "      <td>2022-2023</td>\n",
       "      <td>17</td>\n",
       "    </tr>\n",
       "    <tr>\n",
       "      <th>17</th>\n",
       "      <td>Manchester United</td>\n",
       "      <td>23</td>\n",
       "      <td>14</td>\n",
       "      <td>4</td>\n",
       "      <td>5</td>\n",
       "      <td>38</td>\n",
       "      <td>28</td>\n",
       "      <td>10</td>\n",
       "      <td>46</td>\n",
       "      <td>2022-2023</td>\n",
       "      <td>18</td>\n",
       "    </tr>\n",
       "    <tr>\n",
       "      <th>18</th>\n",
       "      <td>Tottenham Hotspur</td>\n",
       "      <td>23</td>\n",
       "      <td>12</td>\n",
       "      <td>3</td>\n",
       "      <td>8</td>\n",
       "      <td>42</td>\n",
       "      <td>35</td>\n",
       "      <td>7</td>\n",
       "      <td>39</td>\n",
       "      <td>2022-2023</td>\n",
       "      <td>19</td>\n",
       "    </tr>\n",
       "    <tr>\n",
       "      <th>19</th>\n",
       "      <td>Fulham</td>\n",
       "      <td>23</td>\n",
       "      <td>10</td>\n",
       "      <td>5</td>\n",
       "      <td>8</td>\n",
       "      <td>34</td>\n",
       "      <td>30</td>\n",
       "      <td>4</td>\n",
       "      <td>35</td>\n",
       "      <td>2022-2023</td>\n",
       "      <td>20</td>\n",
       "    </tr>\n",
       "  </tbody>\n",
       "</table>\n",
       "<p>280 rows × 11 columns</p>\n",
       "</div>"
      ],
      "text/plain": [
       "                 Team  GP   W   D   L    F   A  GD   P     Season  Rank\n",
       "0             Chelsea  38  27   5   6  103  32  71  86  2009-2010     1\n",
       "1   Manchester United  38  27   4   7   86  28  58  85  2009-2010     2\n",
       "2             Arsenal  38  23   6   9   83  41  42  75  2009-2010     3\n",
       "3   Tottenham Hotspur  38  21   7  10   67  41  26  70  2009-2010     4\n",
       "4     Manchester City  38  18  13   7   73  45  28  67  2009-2010     5\n",
       "..                ...  ..  ..  ..  ..  ...  ..  ..  ..        ...   ...\n",
       "15        Southampton  22   4   3  15   18  40 -22  15  2022-2023    16\n",
       "16    Manchester City  23  16   3   4   59  23  36  51  2022-2023    17\n",
       "17  Manchester United  23  14   4   5   38  28  10  46  2022-2023    18\n",
       "18  Tottenham Hotspur  23  12   3   8   42  35   7  39  2022-2023    19\n",
       "19             Fulham  23  10   5   8   34  30   4  35  2022-2023    20\n",
       "\n",
       "[280 rows x 11 columns]"
      ]
     },
     "execution_count": 25,
     "metadata": {},
     "output_type": "execute_result"
    }
   ],
   "source": [
    "prem_standings"
   ]
  },
  {
   "cell_type": "code",
   "execution_count": 26,
   "id": "863ade98-42da-47c9-ab26-047db2522f39",
   "metadata": {},
   "outputs": [],
   "source": [
    "prem_standings.to_excel(\"premier_standings.xlsx\", index = False)"
   ]
  },
  {
   "cell_type": "markdown",
   "id": "adc6ea86-a683-482c-8c8b-efeef7aea6a6",
   "metadata": {},
   "source": [
    "### Squad & Stats\n",
    "- Man City: https://www.espn.com/soccer/team/stats/_/id/382/league/ENG.1/season/\n",
    "- Arsenal: https://www.espn.com/soccer/team/stats/_/id/359/league/ENG.1/season/\n",
    "etc.\n"
   ]
  },
  {
   "cell_type": "markdown",
   "id": "7253ef7f",
   "metadata": {},
   "source": [
    "- RK: Ranking\n",
    "- P: Games Played\n",
    "- G: Goals scored\n",
    "- A: Assists"
   ]
  },
  {
   "cell_type": "code",
   "execution_count": 27,
   "id": "6e40f54f",
   "metadata": {},
   "outputs": [],
   "source": [
    "# Through the ESPN website I manually found the team ids through the urls\n",
    "team_id = {\"Manchester City\" : 382, \"Arsenal\": 359, \"Manchester United\": 360, \"Newcastle United\": 361,\n",
    "\"Tottenham Hotspur\" : 367, \"Brighton & Hove Albion\" : 331, \"Fulham\": 370, \"Brentford\" : 337, \"Liverpool\" : 64,\n",
    "\"Chelsea\" : 363, \"Aston Villa\" : 362, \"Crystal Palace\" : 384, \"Leicester City\" : 375, \"Nottingham Forest\" : 393,\n",
    "\"Wolverhampton Wanderers\" : 380, \"West Ham United\": 371, \"Leeds United\" : 357, \"Everton\" : 368, \"AFC Bournemouth\": 349,\n",
    "\"Southampton\" : 376, \"Leicester City\" : 375}\n",
    "# Then realized having id to team name is more convenient\n",
    "id_to_team = {val: key for key, val in team_id.items()}"
   ]
  },
  {
   "cell_type": "code",
   "execution_count": 53,
   "id": "6ddd5737-adee-47c2-92f0-4ed85b5653c9",
   "metadata": {},
   "outputs": [],
   "source": [
    "def squad_to_df(team_id, year_lb = 2009, year_ub = 2022):\n",
    "    \"\"\"\n",
    "    Get a dataframe of Top Scorers and Top Assists every year for a given \n",
    "    team's url page on the ESPN website.\n",
    "    \"\"\"\n",
    "    list_of_dfs = []\n",
    "    for year in range(year_lb, year_ub + 1):\n",
    "        year_str = str(year)\n",
    "        page_url = (\"https://www.espn.com/soccer/team/stats/_/id/\" + \n",
    "                            str(team_id) + \"/league/ENG.1/season/\" + year_str)\n",
    "        page = requests.get(page_url)\n",
    "        soup = BeautifulSoup(page.content, \"html.parser\")\n",
    "        try: \n",
    "            # The table will be read in as two separate dfs, concatenate them\n",
    "            table_l_r = pd.read_html(str(soup.find_all(\"table\")))\n",
    "            scorers = pd.DataFrame(table_l_r[0])\n",
    "            scorers = scorers.add_prefix(\"Scorer_\")\n",
    "            assisters = pd.DataFrame(table_l_r[1])\n",
    "            assisters = assisters.add_prefix(\"Assister_\")\n",
    "            table = pd.concat([scorers, assisters], axis = 1)\n",
    "            table[\"Season\"] = year_str + \"-\" + str(year + 1)\n",
    "            # Front fill the Rank columns because ties are not given an int. rank\n",
    "            table[\"Scorer_RK\"] = table[\"Scorer_RK\"].ffill().astype(int)\n",
    "            table[\"Assister_RK\"] = table[\"Assister_RK\"].ffill().astype(int)\n",
    "            if len(table) > 0: \n",
    "                list_of_dfs.append(table)\n",
    "        except ValueError: \n",
    "            # Data is missing for some years, just move on if that happens\n",
    "            continue\n",
    "    is_data = len(list_of_dfs) > 0 \n",
    "    # If that team has at least one year of data, concatenate to one dataframe\n",
    "    if is_data:\n",
    "        return pd.concat(list_of_dfs)\n",
    "    # Otherwise return an empty dataframe\n",
    "    return pd.DataFrame()"
   ]
  },
  {
   "cell_type": "markdown",
   "id": "e369665b",
   "metadata": {},
   "source": [
    "Assemble a dictionary with keys as team names and values as dataframes with top scorer/assister data for each year where data could be retrieved."
   ]
  },
  {
   "cell_type": "code",
   "execution_count": 54,
   "id": "5eac9b57-bbf2-470d-9a63-f8ca755c874f",
   "metadata": {},
   "outputs": [],
   "source": [
    "scorers_assist = []\n",
    "for t_id in id_to_team:\n",
    "    key = id_to_team[t_id]\n",
    "    df = squad_to_df(t_id)\n",
    "    df[\"Team\"] = key\n",
    "    scorers_assist.append(df)"
   ]
  },
  {
   "cell_type": "code",
   "execution_count": 55,
   "id": "ca4a8db3-14ac-4576-b803-275420b5f38c",
   "metadata": {},
   "outputs": [],
   "source": [
    "del scorers_assist[8]"
   ]
  },
  {
   "cell_type": "code",
   "execution_count": 56,
   "id": "c07b93ba-1618-4438-86d5-85ff620818fa",
   "metadata": {},
   "outputs": [
    {
     "data": {
      "text/plain": [
       "[(316, 10),\n",
       " (314, 10),\n",
       " (321, 10),\n",
       " (271, 10),\n",
       " (311, 10),\n",
       " (124, 10),\n",
       " (173, 10),\n",
       " (50, 10),\n",
       " (318, 10),\n",
       " (242, 10),\n",
       " (223, 10),\n",
       " (170, 10),\n",
       " (25, 10),\n",
       " (174, 10),\n",
       " (295, 10),\n",
       " (49, 10),\n",
       " (312, 10),\n",
       " (149, 10),\n",
       " (244, 10)]"
      ]
     },
     "execution_count": 56,
     "metadata": {},
     "output_type": "execute_result"
    }
   ],
   "source": [
    "[df.shape for df in scorers_assist]"
   ]
  },
  {
   "cell_type": "code",
   "execution_count": 57,
   "id": "47ee7bed-22cd-4ad7-b8f3-5a69c59d6852",
   "metadata": {},
   "outputs": [],
   "source": [
    "player_data = pd.concat(scorers_assist)\n",
    "player_data.to_excel(\"espn_scorer_assister.xlsx\", index = False)"
   ]
  },
  {
   "cell_type": "markdown",
   "id": "4e2bf4ef",
   "metadata": {},
   "source": [
    "Save this scorers_assist Excel, to be merged with game summaries and odds data to act as additional predictors for ML models"
   ]
  },
  {
   "cell_type": "code",
   "execution_count": null,
   "id": "48ea62b2",
   "metadata": {},
   "outputs": [],
   "source": [
    "# Save to one excel file with one sheet per team\n",
    "# file_path = \"espn_premier_score_assist.xlsx\"\n",
    "# my_writer = pd.ExcelWriter(file_path)\n",
    "\n",
    "# for team in scorers_assist:\n",
    "#     df = scorers_assist[team]\n",
    "#     df.to_excel(my_writer, sheet_name = team, index = False)\n",
    "\n",
    "# my_writer.close()"
   ]
  }
 ],
 "metadata": {
  "kernelspec": {
   "display_name": "Python 3 (ipykernel)",
   "language": "python",
   "name": "python3"
  },
  "language_info": {
   "codemirror_mode": {
    "name": "ipython",
    "version": 3
   },
   "file_extension": ".py",
   "mimetype": "text/x-python",
   "name": "python",
   "nbconvert_exporter": "python",
   "pygments_lexer": "ipython3",
   "version": "3.10.6"
  },
  "vscode": {
   "interpreter": {
    "hash": "496a0c7ca5f4656875b9e41e8a38b900984d82a2a984277cb3588bfe7c0c82b7"
   }
  }
 },
 "nbformat": 4,
 "nbformat_minor": 5
}
