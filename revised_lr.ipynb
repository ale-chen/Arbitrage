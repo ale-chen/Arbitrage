{
 "cells": [
  {
   "cell_type": "markdown",
   "id": "33380f1a-e7c5-433b-8e9c-9a9bdb354550",
   "metadata": {},
   "source": [
    "## Logistic Regression and KNN"
   ]
  },
  {
   "cell_type": "code",
   "execution_count": 60,
   "id": "e0f52f84-141a-4434-a201-27c65e877db7",
   "metadata": {},
   "outputs": [],
   "source": [
    "import pandas as pd\n",
    "import numpy as np\n",
    "from sklearn.preprocessing import StandardScaler\n",
    "from sklearn.model_selection import train_test_split\n",
    "\n",
    "from sklearn.linear_model import LogisticRegression\n",
    "from sklearn.metrics import accuracy_score\n",
    "from sklearn.metrics import balanced_accuracy_score\n",
    "from sklearn.metrics import roc_curve\n",
    "from sklearn.model_selection import train_test_split\n",
    "from sklearn.neighbors import KNeighborsClassifier\n",
    "\n",
    "import matplotlib.pyplot as plt\n",
    "from sklearn.metrics import confusion_matrix\n",
    "import seaborn as sns"
   ]
  },
  {
   "cell_type": "code",
   "execution_count": 61,
   "id": "0dd85aab-5ef2-4832-9b10-ecb8d10ef664",
   "metadata": {},
   "outputs": [],
   "source": [
    "cat_to_meaning = {\"0\": \"[-inf, -2%]\", \"1\": \"[-2, -0%]\", \"2\":\"[+0%, +2%]\", \"3\":\"[+2%, +inf]\"}\n",
    "cats = pd.DataFrame(cat_to_meaning.items())\n",
    "cats = cats.drop(0, axis = 1)\n",
    "cats.columns = [\"Interval of Profit Margin\"]"
   ]
  },
  {
   "cell_type": "code",
   "execution_count": 62,
   "id": "57bbb91c-964a-4e66-ad22-249f4c42b2ab",
   "metadata": {},
   "outputs": [
    {
     "name": "stdout",
     "output_type": "stream",
     "text": [
      "['Date', 'HomeTeam', 'AwayTeam', 'FTHG', 'FTAG', 'FTR', 'HTHG', 'HTAG', 'HTR', 'HS', 'AS', 'HST', 'AST', 'HF', 'AF', 'HC', 'AC', 'HY', 'AY', 'HR', 'AR', 'MAXH', 'MAXD', 'MAXA']\n"
     ]
    }
   ],
   "source": [
    "X = pd.read_csv(\"X.csv\", header = None)\n",
    "y = pd.read_csv(\"y.csv\", header = None)\n",
    "\n",
    "col_names = ['Date', 'HomeTeam', 'AwayTeam', 'FTHG', 'FTAG', 'FTR', 'HTHG', 'HTAG',\n",
    "       'HTR', 'HS', 'AS', 'HST', 'AST', 'HF', 'AF', 'HC', 'AC', 'HY', 'AY',\n",
    "       'HR', 'AR', 'MAXH', 'MAXD', 'MAXA']\n",
    "print(col_names)\n",
    "extended_col_names = col_names.copy()\n",
    "for i in range(5):\n",
    "    extended_col_names.extend([name + \"_H_\" + str(i) for name in col_names])\n",
    "for i in range(5):\n",
    "    extended_col_names.extend([name + \"_A_\" + str(i) for name in col_names])\n",
    "\n",
    "extended_col_names = [ele for ele in extended_col_names if ele not in ['MAXH','MAXD','MAXA']]\n",
    "\n",
    "X.columns = extended_col_names\n",
    "\n",
    "#WE DON'T WANT TO TRAIN ON GAME STATS, ONLY PREVIOUS\n",
    "X.drop(['FTHG', 'FTAG', 'FTR', 'HTHG', 'HTAG','HTR', 'HS', 'AS', 'HST',\n",
    "        'AST', 'HF', 'AF', 'HC', 'AC', 'HY', 'AY','HR', 'AR'], axis = 1, inplace = True)"
   ]
  },
  {
   "cell_type": "code",
   "execution_count": 63,
   "id": "83e76a1e-9bd7-4425-9119-6a08741ea1c8",
   "metadata": {},
   "outputs": [
    {
     "data": {
      "text/html": [
       "<div>\n",
       "<style scoped>\n",
       "    .dataframe tbody tr th:only-of-type {\n",
       "        vertical-align: middle;\n",
       "    }\n",
       "\n",
       "    .dataframe tbody tr th {\n",
       "        vertical-align: top;\n",
       "    }\n",
       "\n",
       "    .dataframe thead th {\n",
       "        text-align: right;\n",
       "    }\n",
       "</style>\n",
       "<table border=\"1\" class=\"dataframe\">\n",
       "  <thead>\n",
       "    <tr style=\"text-align: right;\">\n",
       "      <th></th>\n",
       "      <th>Interval of Profit Margin</th>\n",
       "      <th>Number of Games</th>\n",
       "    </tr>\n",
       "  </thead>\n",
       "  <tbody>\n",
       "    <tr>\n",
       "      <th>0</th>\n",
       "      <td>[-inf, -2%]</td>\n",
       "      <td>3110</td>\n",
       "    </tr>\n",
       "    <tr>\n",
       "      <th>1</th>\n",
       "      <td>[-2, -0%]</td>\n",
       "      <td>1719</td>\n",
       "    </tr>\n",
       "    <tr>\n",
       "      <th>2</th>\n",
       "      <td>[+0%, +2%]</td>\n",
       "      <td>529</td>\n",
       "    </tr>\n",
       "    <tr>\n",
       "      <th>3</th>\n",
       "      <td>[+2%, +inf]</td>\n",
       "      <td>51</td>\n",
       "    </tr>\n",
       "  </tbody>\n",
       "</table>\n",
       "</div>"
      ],
      "text/plain": [
       "  Interval of Profit Margin  Number of Games\n",
       "0               [-inf, -2%]             3110\n",
       "1                 [-2, -0%]             1719\n",
       "2                [+0%, +2%]              529\n",
       "3               [+2%, +inf]               51"
      ]
     },
     "execution_count": 63,
     "metadata": {},
     "output_type": "execute_result"
    }
   ],
   "source": [
    "trans_y = y.transpose()\n",
    "val_counts = trans_y.value_counts()\n",
    "int_counts = pd.DataFrame(val_counts)\n",
    "int_counts.columns = [\"Number of Games\"]\n",
    "int_counts.reset_index(inplace = True)\n",
    "int_counts = pd.concat([cats, int_counts], axis = 1)\n",
    "int_counts = int_counts.iloc[:, [0,2]]\n",
    "int_counts"
   ]
  },
  {
   "cell_type": "markdown",
   "id": "3d2baf9b-8433-445f-bf8f-51d3b2cb3cb8",
   "metadata": {},
   "source": [
    "### Multi-Class Classification"
   ]
  },
  {
   "cell_type": "code",
   "execution_count": 64,
   "id": "67e4b919-2159-43af-9424-a6bbd3cff4e8",
   "metadata": {},
   "outputs": [],
   "source": [
    "y = y.iloc[0].values\n",
    "#print(type(y), type(y[0]))\n",
    "y = np.array([num + 2 for num in y])\n",
    "#print(type(y), type(y[0]))\n",
    "X = X.values"
   ]
  },
  {
   "cell_type": "code",
   "execution_count": 65,
   "id": "2b722108-f3e2-42a1-b50a-0bb2478dad89",
   "metadata": {},
   "outputs": [
    {
     "name": "stdout",
     "output_type": "stream",
     "text": [
      "5409 5409\n"
     ]
    }
   ],
   "source": [
    "print(len(X), len(y))\n",
    "X_tr, X_te, y_tr, y_te = train_test_split(X, y, test_size = .5, random_state=4)"
   ]
  },
  {
   "cell_type": "code",
   "execution_count": 66,
   "id": "7ccf41a5-b281-4667-ae37-85b3b2113365",
   "metadata": {},
   "outputs": [],
   "source": [
    "scaler = StandardScaler()\n",
    "\n",
    "X_tr_scaled = scaler.fit_transform(X_tr)\n",
    "X_te_scaled = scaler.transform(X_te)"
   ]
  },
  {
   "cell_type": "code",
   "execution_count": 67,
   "id": "e19bde43-06cf-4e8a-9835-1466ed7d01af",
   "metadata": {},
   "outputs": [],
   "source": [
    "#print(min(y_te), max(y_te), min(y_tr), max(y_tr))"
   ]
  },
  {
   "cell_type": "code",
   "execution_count": 68,
   "id": "3bbb67d1-d7de-47bf-b06c-cf2000ad0242",
   "metadata": {},
   "outputs": [],
   "source": [
    "logreg_m = LogisticRegression(solver = \"newton-cholesky\", random_state = 10)\n",
    "logreg_m.fit(X_tr_scaled, y_tr)\n",
    "y_pred_m = logreg_m.predict(X_te_scaled)\n",
    "log_reg_m_acc = accuracy_score(y_te, y_pred_m)"
   ]
  },
  {
   "cell_type": "code",
   "execution_count": 69,
   "id": "490c3611-489c-490c-82b8-000446903f62",
   "metadata": {},
   "outputs": [
    {
     "data": {
      "text/plain": [
       "0.6247689463955638"
      ]
     },
     "execution_count": 69,
     "metadata": {},
     "output_type": "execute_result"
    }
   ],
   "source": [
    "log_reg_m_acc"
   ]
  },
  {
   "cell_type": "code",
   "execution_count": 77,
   "id": "36c066c9-e6f9-4ce2-b1d0-e15fcf46b232",
   "metadata": {},
   "outputs": [
    {
     "data": {
      "text/plain": [
       "0.07430743209431734"
      ]
     },
     "execution_count": 77,
     "metadata": {},
     "output_type": "execute_result"
    }
   ],
   "source": [
    "balanced_accuracy_score(y_te, y_pred_m, adjusted = True)"
   ]
  },
  {
   "cell_type": "code",
   "execution_count": 71,
   "id": "0815db00-94d4-49bb-a574-012b9689c10d",
   "metadata": {},
   "outputs": [
    {
     "data": {
      "text/plain": [
       "array([[187, 387,   0,   0],\n",
       "       [113, 908,   0,   0],\n",
       "       [ 11, 168,   0,   0],\n",
       "       [  0,  11,   0,   0]])"
      ]
     },
     "execution_count": 71,
     "metadata": {},
     "output_type": "execute_result"
    }
   ],
   "source": [
    "cfm"
   ]
  },
  {
   "cell_type": "code",
   "execution_count": 73,
   "id": "297084b8-6bbd-4791-bd35-9ad2cc1559b4",
   "metadata": {},
   "outputs": [
    {
     "data": {
      "text/plain": [
       "array([0, 1, 3, 4])"
      ]
     },
     "execution_count": 73,
     "metadata": {},
     "output_type": "execute_result"
    }
   ],
   "source": [
    "np.unique(y_te)"
   ]
  },
  {
   "cell_type": "code",
   "execution_count": 75,
   "id": "7f1b7db1-3957-4d24-9c21-508f7cffa560",
   "metadata": {},
   "outputs": [
    {
     "data": {
      "image/png": "[encoded data removed]",
      "text/plain": [
       "<Figure size 640x480 with 2 Axes>"
      ]
     },
     "metadata": {},
     "output_type": "display_data"
    }
   ],
   "source": [
    "cfm = confusion_matrix(y_te, y_pred_m, labels = np.unique(y_te))\n",
    "sns.heatmap(cfm, annot = True, fmt = \"d\")\n",
    "plt.ylabel(\"Actual Values\")\n",
    "plt.xlabel(\"Predicted Values\")\n",
    "plt.title(\"Confusion Matrix for Multi-Class Logistic Regression\")\n",
    "plt.savefig(\"conf_m.png\", dpi = 400)"
   ]
  },
  {
   "cell_type": "code",
   "execution_count": 13,
   "id": "9f0b706c-a3ae-494c-8b6d-1f6d2a4993a0",
   "metadata": {},
   "outputs": [
    {
     "name": "stdout",
     "output_type": "stream",
     "text": [
      "0.544 Accuracy from the K nearest neighbors algorithm\n"
     ]
    }
   ],
   "source": [
    "neigh = KNeighborsClassifier(n_neighbors = 5)\n",
    "neigh.fit(X_tr_scaled, y_tr)\n",
    "n_pred = neigh.predict(X_te_scaled)\n",
    "knn_acc = accuracy_score(y_te, n_pred)\n",
    "print(np.round(knn_acc, 4), \"Accuracy from the K nearest neighbors algorithm\")"
   ]
  },
  {
   "cell_type": "markdown",
   "id": "3bee36b8-27f5-46bb-8a90-1a3a8e41c30d",
   "metadata": {},
   "source": [
    "### Binary Classification"
   ]
  },
  {
   "cell_type": "code",
   "execution_count": 14,
   "id": "f32b465c-65dc-4c2c-aecd-c51e55c58477",
   "metadata": {},
   "outputs": [],
   "source": [
    "def multi_to_binary(num):\n",
    "    if num <=2:\n",
    "        return 0\n",
    "    else:\n",
    "        return 1"
   ]
  },
  {
   "cell_type": "code",
   "execution_count": 15,
   "id": "1dbded13-bb51-4d53-b47b-804e337aa2e1",
   "metadata": {},
   "outputs": [],
   "source": [
    "b_y = [multi_to_binary(num) for num in y]"
   ]
  },
  {
   "cell_type": "code",
   "execution_count": 16,
   "id": "b46c2bd6-3535-490e-90bd-ebf6905addc5",
   "metadata": {},
   "outputs": [],
   "source": [
    "X_tr2, X_te2, by_tr, by_te = train_test_split(X, b_y, test_size = .33, random_state=42)\n",
    "Xb_tr_scaled = scaler.fit_transform(X_tr2)\n",
    "Xb_te_scaled = scaler.transform(X_te2)"
   ]
  },
  {
   "cell_type": "code",
   "execution_count": 24,
   "id": "e51799d8-0512-4500-8bd8-959e2227e5bf",
   "metadata": {},
   "outputs": [
    {
     "name": "stdout",
     "output_type": "stream",
     "text": [
      "0.8936 Accuracy from Logistic Regression\n"
     ]
    }
   ],
   "source": [
    "logreg_b = LogisticRegression(solver = \"newton-cholesky\", random_state = 11)\n",
    "logreg_b.fit(Xb_tr_scaled, by_tr)\n",
    "y_pred_b = logreg_b.predict(Xb_te_scaled)\n",
    "y_pred_probs_b1 = logreg_b.predict_proba(Xb_te_scaled)[:, 1]\n",
    "logreg_b_acc = accuracy_score(by_te, y_pred_b)\n",
    "print(np.round(logreg_b_acc, 4), \"Accuracy from Logistic Regression\")"
   ]
  },
  {
   "cell_type": "code",
   "execution_count": 76,
   "id": "36744282-e02f-421e-b826-315875668360",
   "metadata": {},
   "outputs": [
    {
     "data": {
      "text/plain": [
       "0.0"
      ]
     },
     "execution_count": 76,
     "metadata": {},
     "output_type": "execute_result"
    }
   ],
   "source": [
    "balanced_accuracy_score(by_te, y_pred_b, adjusted = True)"
   ]
  },
  {
   "cell_type": "code",
   "execution_count": 25,
   "id": "c56cd04b-9292-44b4-954f-8e59e9b36858",
   "metadata": {},
   "outputs": [
    {
     "name": "stdout",
     "output_type": "stream",
     "text": [
      "0.3339 Accuracy from the K nearest neighbors algorithm\n"
     ]
    }
   ],
   "source": [
    "neigh_b = KNeighborsClassifier(n_neighbors = 5)\n",
    "neigh_b.fit(Xb_tr_scaled, by_tr)\n",
    "n_pred_b = neigh.predict(Xb_te_scaled)\n",
    "knn_acc_b = accuracy_score(by_te, n_pred_b)\n",
    "print(np.round(knn_acc_b, 4), \"Accuracy from the K nearest neighbors algorithm\")"
   ]
  },
  {
   "cell_type": "code",
   "execution_count": 31,
   "id": "106e4b1a-5727-43f9-81e7-f46082ed729a",
   "metadata": {},
   "outputs": [
    {
     "data": {
      "image/png": "[encoded data removed]",
      "text/plain": [
       "<Figure size 640x480 with 1 Axes>"
      ]
     },
     "metadata": {},
     "output_type": "display_data"
    }
   ],
   "source": [
    "\n",
    "bin_logreg_fpr, bin_logreg_tpr, bin_logreg_thresh = roc_curve(by_te, y_pred_probs_b1)\n",
    "plt.title(\"Predict Arbitrage Opportunity or Not\")\n",
    "plt.plot(bin_logreg_fpr, bin_logreg_tpr, label = \"Logistic Regression\")\n",
    "plt.plot(bin_logreg_fpr, bin_logreg_fpr, label = \"Random Classifier\")\n",
    "plt.xlabel(\"False Positive Rate\")\n",
    "plt.ylabel(\"True Positive Rate\")\n",
    "plt.legend()\n",
    "plt.show()"
   ]
  }
 ],
 "metadata": {
  "kernelspec": {
   "display_name": "Python 3 (ipykernel)",
   "language": "python",
   "name": "python3"
  },
  "language_info": {
   "codemirror_mode": {
    "name": "ipython",
    "version": 3
   },
   "file_extension": ".py",
   "mimetype": "text/x-python",
   "name": "python",
   "nbconvert_exporter": "python",
   "pygments_lexer": "ipython3",
   "version": "3.10.6"
  }
 },
 "nbformat": 4,
 "nbformat_minor": 5
}
