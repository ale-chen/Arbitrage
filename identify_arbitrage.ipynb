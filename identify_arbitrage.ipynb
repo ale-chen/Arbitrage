{
 "cells": [
  {
   "cell_type": "markdown",
   "id": "c4719040-b9da-4ea0-bfa1-7bedad67bb78",
   "metadata": {},
   "source": [
    "## Premier League Soccer/Football Data"
   ]
  },
  {
   "cell_type": "markdown",
   "id": "0ccd56cd-ff8d-4e20-83e0-002cb1b288f0",
   "metadata": {},
   "source": [
    "The Football-Data Premier League Data [Dataset](https://www.football-data.co.uk/englandm.php) contains sports betting odds data from the 1993/1994 season to the 2022/2023 season. This website provides not only historical football results and betting odds, but also live scores, betting advice, and opportunities for people to bet themselves. The data is meant to be useful by providing insights over time -- insights that may be useful for making money off of identifying opportunities for arbitrage, instances where betting on all outcomes of a game is guaranteed to make a profit.\n",
    "\n",
    "The data dictionary Notes.txt also provides descriptions for what each column means. There are two main groups of columns: game data and odds data. Firstly, columns relating to game data include the name of the home team, name of the away team, name of referree, shots on goal for each team, score, and number of yellow cards for each team. Secondly, there is odds data from multiple bookmakers and what the odds are for each outcome. Aside from specific odds for each outcome for each bookmaker, there is also some aggregate data such as average and maximum odds.\n",
    "\n",
    "After cleaning data from 2010-2023, the first step is to identify where there were opportunities for arbitrage to prepare for models to predict both whether there will be arbitrage opportunities as well as the profit margins."
   ]
  },
  {
   "cell_type": "code",
   "execution_count": 1,
   "id": "dbcfab11-ca2d-439a-b226-65ef782d582e",
   "metadata": {},
   "outputs": [],
   "source": [
    "import pandas as pd\n",
    "import numpy as np\n",
    "import seaborn as sns\n",
    "import glob\n",
    "import matplotlib.pyplot as plt\n",
    "import warnings\n",
    "warnings.filterwarnings(\"ignore\")"
   ]
  },
  {
   "cell_type": "code",
   "execution_count": 2,
   "id": "89b3e3f1-51a9-4ba6-94a3-119e7627494e",
   "metadata": {},
   "outputs": [],
   "source": [
    "# get file names of all data csvs in this folder\n",
    "files = glob.glob(\"*.csv\")"
   ]
  },
  {
   "cell_type": "code",
   "execution_count": 3,
   "id": "d137b8e6-f684-4b25-a60a-b03241263fea",
   "metadata": {},
   "outputs": [],
   "source": [
    "all_dfs = []\n",
    "for file in files:\n",
    "    try: \n",
    "        all_dfs.append(pd.read_csv(file))\n",
    "    except: \n",
    "        print(file)\n",
    "        continue\n",
    "premier = pd.concat(all_dfs)"
   ]
  },
  {
   "cell_type": "markdown",
   "id": "b6bde290-8ec3-420a-8235-87010c0911f7",
   "metadata": {},
   "source": [
    "## Data Cleaning"
   ]
  },
  {
   "cell_type": "code",
   "execution_count": 4,
   "id": "770c153c-695d-4aa5-a728-82c8a6cd5118",
   "metadata": {},
   "outputs": [
    {
     "name": "stdout",
     "output_type": "stream",
     "text": [
      "(4771, 139)\n"
     ]
    }
   ],
   "source": [
    "print(premier.shape)\n",
    "premier.head()\n",
    "premier[\"Date\"] = pd.to_datetime(premier[\"Date\"])"
   ]
  },
  {
   "cell_type": "code",
   "execution_count": 5,
   "id": "e4f1e076-9fdf-4ffe-aac7-a1dc4f2995eb",
   "metadata": {},
   "outputs": [
    {
     "name": "stdout",
     "output_type": "stream",
     "text": [
      "Taking data from 2010-01-11 00:00:00 to 2023-12-01 00:00:00\n"
     ]
    }
   ],
   "source": [
    "print(\"Taking data from\", premier[\"Date\"].min(), \"to\", premier[\"Date\"].max())"
   ]
  },
  {
   "cell_type": "code",
   "execution_count": 6,
   "id": "2f99117a-1904-4e1f-bdd3-e0f3dde81665",
   "metadata": {},
   "outputs": [],
   "source": [
    "premier = premier[(premier[\"HomeTeam\"].notnull()) & premier[\"AwayTeam\"].notnull()]"
   ]
  },
  {
   "cell_type": "code",
   "execution_count": 7,
   "id": "0c8265ed-8874-4f22-9c6a-18368e44c48c",
   "metadata": {},
   "outputs": [],
   "source": [
    "def drop_cols(df, miss_thresh = 0.5):\n",
    "    \"\"\"\n",
    "    Drops columns in a dataframe where majority of data is missing.\n",
    "    \n",
    "    Inputs:\n",
    "        df [Pandas df]: dataframe of game and odds data.\n",
    "        miss_thresh [float]: if a column is missing more than \n",
    "        this proportion of values, it will be doppred. \n",
    "        \n",
    "    Returns [Pandas df]: a new dataframe without those columns.\n",
    "    \"\"\"\n",
    "\n",
    "    max_missing = len(df) * miss_thresh\n",
    "    to_drop = df.isna().sum().loc[lambda miss: miss > max_missing].index.tolist()\n",
    "    to_keep = list(set(df.columns).difference(set(to_drop)))\n",
    "    print(\"Dropped\", len(to_drop), \"columns\")\n",
    "    return df[to_keep]"
   ]
  },
  {
   "cell_type": "code",
   "execution_count": 8,
   "id": "3b6eb87f-1071-4431-a120-5801db594628",
   "metadata": {},
   "outputs": [
    {
     "name": "stdout",
     "output_type": "stream",
     "text": [
      "Dropped 74 columns\n"
     ]
    }
   ],
   "source": [
    "premier = drop_cols(premier)"
   ]
  },
  {
   "cell_type": "code",
   "execution_count": 9,
   "id": "da764596-32e7-4b64-96e3-cd2bc3330996",
   "metadata": {},
   "outputs": [],
   "source": [
    "def fill_miss(df):\n",
    "    \"\"\"\n",
    "    Fill missing values in columns with mean of that column. \n",
    "    \n",
    "    Inputs:\n",
    "        df [Pandas df]: The dataframe to be cleaned.\n",
    "        \n",
    "    Returns [Pandas df]: a new dataframe with no missing values.\n",
    "    \"\"\"\n",
    "    \n",
    "    cols_to_fill = df.isna().sum()[df.isna().sum() > 0].index.tolist()\n",
    "    for col in cols_to_fill:\n",
    "        df[col] = df[col].fillna(df[col].mean())\n",
    "        \n",
    "    return df"
   ]
  },
  {
   "cell_type": "code",
   "execution_count": 10,
   "id": "be7440c3-affe-4dad-9e7b-e0d5bc09ef1a",
   "metadata": {},
   "outputs": [],
   "source": [
    "premier = fill_miss(premier)"
   ]
  },
  {
   "cell_type": "markdown",
   "id": "9a021e03-107e-40c4-8f57-b9543f0e41f9",
   "metadata": {},
   "source": [
    "### Find Arbitrage Opportunities\n",
    "\n",
    "Arbitrage opportunities are where:\n",
    "$$(\\tfrac{1}{odds_{H}} + \\tfrac{1}{odds_{D}} + \\tfrac{1}{odds_{A}}) * 100 < 100$$"
   ]
  },
  {
   "cell_type": "code",
   "execution_count": 11,
   "id": "3b870044-734b-4dcc-b6c6-a9f8d6886f86",
   "metadata": {},
   "outputs": [],
   "source": [
    "# Add a column for being a unique identifier\n",
    "premier[\"uid\"] = np.arange(0, len(premier))"
   ]
  },
  {
   "cell_type": "code",
   "execution_count": 12,
   "id": "f4eb2e6b-47d8-43b6-8bb2-824dacc691df",
   "metadata": {},
   "outputs": [],
   "source": [
    "home_odds_cols = [\"B365H\", \"BSH\", \"BWH\", \"GBH\", \"IWH\", \"LBH\", \"PSH\", \"PH\", \"SOH\",\n",
    "                                            \"SBH\", \"SJH\", \"SYH\", \"VCH\", \"WHH\"]\n",
    "draw_odds_cols = [\"B365D\", \"BSD\", \"BWD\", \"GBD\", \"IWD\", \"LBD\", \"PSD\", \"PD\", \"SOD\",\n",
    "                                            \"SBD\", \"SJD\", \"SYD\", \"VCD\", \"WHD\"]\n",
    "away_odds_cols = [\"B365A\", \"BSA\", \"BWA\", \"GBA\", \"IWA\", \"LBA\", \"PSA\", \"PA\", \"SOA\", \n",
    "                                            \"SBA\", \"SJA\", \"SYA\", \"VCA\", \"WHA\"]\n",
    "# Some cols may be missing esp. with some columns with a lot of missing vals dropped\n",
    "# Take the intersection of these columns and the dataframe's columns\n",
    "h_odds_cols = list(set(premier.columns.tolist()).intersection(set(home_odds_cols)))\n",
    "d_odds_cols = list(set(premier.columns.tolist()).intersection(set(draw_odds_cols)))\n",
    "a_odds_cols = list(set(premier.columns.tolist()).intersection(set(away_odds_cols)))"
   ]
  },
  {
   "cell_type": "code",
   "execution_count": 13,
   "id": "bd5c3ea2-79be-4a05-97e1-ec070139037b",
   "metadata": {},
   "outputs": [],
   "source": [
    "def is_arb(odds_home, odds_draw, odds_away):\n",
    "    \"\"\"\n",
    "    Helper function for the function find_arb to calcualte betting odds margin given three odds,\n",
    "    and returns a boolean of if it is under 100%, indicating an opportunity of arbitrage\n",
    "    as well as the betting odds margin.\n",
    "    \n",
    "    Inputs:\n",
    "        odds_home [float]: odds that the home team will win.\n",
    "        odds_draw [float]: odds that there will be a draw.\n",
    "        odds_away [float]: odds that the away team will win.\n",
    "    \n",
    "    Returns [tuple(bool, float)]: True if there is an opportunity for arbitrage, otherwise\n",
    "        False. The float is the proportion of profit available to the better if it is an \n",
    "        arbitrage opportunity, or otherwise the proportion of profit available to the bookmaker.\n",
    "    \"\"\"\n",
    "    implied_prob_home = 1/odds_home\n",
    "    implied_prob_draw = 1/odds_draw\n",
    "    implied_prob_away = 1/odds_away\n",
    "    \n",
    "    margin = (implied_prob_home + implied_prob_draw + implied_prob_away) * 100\n",
    "    if margin < 100:\n",
    "        # There is an opportunity for Arbitrage\n",
    "        return True, 100 - margin\n",
    "    # margin >= 100 in this case, odds are against better\n",
    "    return False, margin - 100"
   ]
  },
  {
   "cell_type": "code",
   "execution_count": 14,
   "id": "efd29a82-44e7-4c45-8410-1bb21555f749",
   "metadata": {},
   "outputs": [],
   "source": [
    "def find_arb(df, ho_cols = home_odds_cols, do_cols = draw_odds_cols, ao_cols = away_odds_cols):\n",
    "    \"\"\"\n",
    "    Find the arbitrage opportunities for each game based on the various bookmakers'\n",
    "    odds for the home team winning, a draw, and the away team winning. \n",
    "    \n",
    "    Inputs:\n",
    "        df [Pandas df]: dataframe with a unique identifier column named uid, and\n",
    "            column names for every string in ho_cols, do_cols, and ao_cols. Each row \n",
    "            represents one game, where the corresponding element in each bookmakers'\n",
    "            odds columns is for that game.\n",
    "        ho_cols [list[str]]: column names of bookmakers' odds for the home team \n",
    "            winning.\n",
    "        do_cols [list[str]]: column names of bookmakers' odds for the game ending\n",
    "            in a draw.\n",
    "        ao_cols [list[str]]: column names of bookmakers' odds for the away team \n",
    "            winning.\n",
    "        \n",
    "    Returns [dict[int] -> [list[tuple(str, str, str, float)]]]: A dictionary with\n",
    "        keys as unique identifiers for each game with arbitrage opportunities, \n",
    "        with the values being a list. The list's first element is the name of \n",
    "        the column for the book and outcome of home winning. Then it is the name\n",
    "        of the column indicative of the book and outcome of draw winning, followed \n",
    "        by the respective column name for the book for away oods. The fourth and \n",
    "        final element in the list is a float giving the margin of profit.\n",
    "    \"\"\"\n",
    "    \n",
    "    h_odds = df[h_odds_cols]\n",
    "    d_odds = df[d_odds_cols]\n",
    "    a_odds = df[a_odds_cols]\n",
    "\n",
    "    books_and_margin = {}\n",
    "    \n",
    "    for uid in df[\"uid\"]:\n",
    "        home, draw, away = (dict(h_odds.iloc[uid, :]), \n",
    "                        dict(d_odds.iloc[uid, :]), dict(a_odds.iloc[uid, :]))\n",
    "        # Try all combinations of home, draw, and away odds\n",
    "        for h_book_odds in home.items():\n",
    "            bookh, oddsh = h_book_odds\n",
    "            for d_book_odds in draw.items():\n",
    "                bookd, oddsd = d_book_odds\n",
    "                for a_book_odds in away.items():\n",
    "                    booka, oddsa = a_book_odds\n",
    "                    \n",
    "                    # Check if arbitrage opp. exists using the helper function\n",
    "                    arb_bool, my_margin = is_arb(oddsh, oddsd, oddsa)\n",
    "                    \n",
    "                    if arb_bool:\n",
    "                        to_store = (bookh, bookd, booka, my_margin)\n",
    "                        if to_store == ('PSH', 'PSD', 'PSA', 10.43352294809739):\n",
    "                            return bookh, bookd, booka, my_margin\n",
    "                        current_opps = books_and_margin.get(uid, [])\n",
    "                        current_opps.append(to_store)\n",
    "                        books_and_margin[uid] = current_opps\n",
    "  \n",
    "    return books_and_margin"
   ]
  },
  {
   "cell_type": "code",
   "execution_count": 15,
   "id": "81423609-3984-4ac9-8d1b-ed87f1c5a249",
   "metadata": {},
   "outputs": [],
   "source": [
    "my_arb_dict = find_arb(premier, h_odds_cols, d_odds_cols, a_odds_cols)"
   ]
  },
  {
   "cell_type": "code",
   "execution_count": 16,
   "id": "cd41b806-a617-46d9-b255-eac7e824ce7e",
   "metadata": {},
   "outputs": [
    {
     "name": "stdout",
     "output_type": "stream",
     "text": [
      "2960 opportunities for arbitrage!!\n"
     ]
    }
   ],
   "source": [
    "print(len(my_arb_dict.keys()), \"opportunities for arbitrage!!\")"
   ]
  },
  {
   "cell_type": "code",
   "execution_count": 17,
   "id": "7353d03c-d884-4bce-ae57-046c4f36f8a0",
   "metadata": {},
   "outputs": [],
   "source": [
    "premier[\"Arbitrage Opportunity\"] = premier.apply(lambda r: r[\"uid\"] in my_arb_dict.keys(), axis = 1)"
   ]
  },
  {
   "cell_type": "code",
   "execution_count": 18,
   "id": "8bdbb2ec",
   "metadata": {},
   "outputs": [],
   "source": [
    "def best_for_game(uid):\n",
    "    \"\"\"\n",
    "    What is the best bet that can be placed? Helper function for best_for_games. \n",
    "    Relies on the global variable my_arb_dict to contain information accessible\n",
    "    by each game's unique id.\n",
    "    Inputs:\n",
    "        uid [int]: unique id for a game.\n",
    "    Returns [tuple(str, str, str, float)]: A tuple containing the an abbeviation\n",
    "        corresponding to the book to bet on for home winning, draw winning, and \n",
    "        away winning as the first three string elements. The last element is the\n",
    "        maximum profit margin(a proportion greater than 0) if there exsts one or\n",
    "        more arbitrage opportunities for that game. If no arbitrage opportunity \n",
    "        exists, returns a tuple of four Nones.\n",
    "    \"\"\"\n",
    "    if uid in my_arb_dict: \n",
    "        all_opp_info = my_arb_dict[uid]\n",
    "        # At index 3 of each tuple in the list is the margin of profit\n",
    "        profits = [tupl[3] for tupl in all_opp_info]\n",
    "        bet_info = all_opp_info[np.argmax(profits)]\n",
    "        return bet_info\n",
    "\n",
    "    # For the purpose of being unpacked by find_best_margin\n",
    "    return (None, None, None, None)"
   ]
  },
  {
   "cell_type": "code",
   "execution_count": 19,
   "id": "7a68cbeb-3988-4553-a5e9-15fa9081569c",
   "metadata": {},
   "outputs": [],
   "source": [
    "def best_for_games(df):\n",
    "    \"\"\"\n",
    "    Goes row-by-row for each game in the dataframe using the helper function \n",
    "    best_for_game to find the books to bet on in order to get the best profit\n",
    "    margin.\n",
    "\n",
    "    Inputs:\n",
    "        df [Pandas df]: Dataframe of game and odds data\n",
    "\n",
    "    Returns [Pandas df]: New datafrane with four new columns about the bets \n",
    "        that could have been placed to get the bet profit!\n",
    "    \"\"\"\n",
    "    # Store in list for easy creation of new dataframe columns\n",
    "    home_book_bets, draw_book_bets, away_book_bets, profits = [], [], [], []\n",
    "\n",
    "    for ind in range(len(df)):\n",
    "        row_uid = df.iloc[ind, :][\"uid\"]\n",
    "        home_book, draw_book, away_book, profit = best_for_game(row_uid)\n",
    "        home_book_bets.append(home_book)\n",
    "        draw_book_bets.append(draw_book)\n",
    "        away_book_bets.append(away_book)\n",
    "        profits.append(profit)\n",
    "\n",
    "    df[\"Home Book Bet\"] = home_book_bets\n",
    "    df[\"Draw Book Bet\"] = draw_book_bets\n",
    "    df[\"Away Book Bet\"] = away_book_bets\n",
    "    df[\"Bet Profit\"] = profits\n",
    "\n",
    "    return df"
   ]
  },
  {
   "cell_type": "code",
   "execution_count": 20,
   "id": "56076639",
   "metadata": {},
   "outputs": [],
   "source": [
    "prem = best_for_games(premier)"
   ]
  },
  {
   "cell_type": "code",
   "execution_count": 21,
   "id": "52543e61",
   "metadata": {},
   "outputs": [
    {
     "name": "stdout",
     "output_type": "stream",
     "text": [
      "There are profit margins as high as  65.079 %!\n"
     ]
    }
   ],
   "source": [
    "print(\"There are profit margins as high as \", \n",
    "    np.round(prem[\"Bet Profit\"].max(), 3), \"%!\")"
   ]
  },
  {
   "cell_type": "code",
   "execution_count": 22,
   "id": "98f85594",
   "metadata": {},
   "outputs": [
    {
     "data": {
      "image/png": "[encoded data removed]",
      "text/plain": [
       "<Figure size 640x480 with 1 Axes>"
      ]
     },
     "metadata": {},
     "output_type": "display_data"
    }
   ],
   "source": [
    "plt.hist(prem[\"Bet Profit\"], bins = int(np.sqrt(len(prem))), edgecolor = \"black\")\n",
    "plt.xlabel(\"Profit Margin for Unbiased Arbitrage (%)\")\n",
    "plt.ylabel(\"Number of Games\")\n",
    "plt.title(\"Arbitrage Opportunities\")\n",
    "plt.show()"
   ]
  }
 ],
 "metadata": {
  "kernelspec": {
   "display_name": "Python 3 (ipykernel)",
   "language": "python",
   "name": "python3"
  },
  "language_info": {
   "codemirror_mode": {
    "name": "ipython",
    "version": 3
   },
   "file_extension": ".py",
   "mimetype": "text/x-python",
   "name": "python",
   "nbconvert_exporter": "python",
   "pygments_lexer": "ipython3",
   "version": "3.10.6"
  },
  "vscode": {
   "interpreter": {
    "hash": "f7cdf390d813832c9146c17a1007c0c70052dd6dc9182b747e1161108cf59966"
   }
  }
 },
 "nbformat": 4,
 "nbformat_minor": 5
}
